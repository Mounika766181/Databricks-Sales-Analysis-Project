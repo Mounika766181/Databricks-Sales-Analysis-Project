{
 "cells": [
  {
   "cell_type": "markdown",
   "metadata": {
    "application/vnd.databricks.v1+cell": {
     "cellMetadata": {
      "byteLimit": 2048000,
      "rowLimit": 10000
     },
     "inputWidgets": {},
     "nuid": "730acd0f-0ce6-46b6-b211-61eff2c8bbe9",
     "showTitle": false,
     "tableResultSettingsMap": {},
     "title": ""
    }
   },
   "source": [
    "### Adilas Sales Data Project\n",
    "The objective of this project is to analyze the Adidas sales database for the year 2020 and 2021 and identify key insights to help improve sales performance and optimize business strategies.\n",
    "\n",
    "By analyzing the sales data, we aim to understand factors influencing sales, identify trends, and uncover opportunities for growth. The analysis will be conducted using databricks Notebook to provide an interactive and insightful dashboard.\n",
    "\n",
    "Business Metrics requirements\n",
    "\n",
    "1. Total Sales, Total Profit, Average Price per Unit, and Total Units Sold\n",
    "2. Total sales by month \n",
    "3. Total sales by state\n",
    "4. total sales by region\n",
    "5. Total sales by product \n",
    "6. Total sales by retailer\n",
    "7. Units Sold by Product Category and Gender Type\n",
    "8. Top Performing Cities by Profit"
   ]
  },
  {
   "cell_type": "code",
   "execution_count": 0,
   "metadata": {
    "application/vnd.databricks.v1+cell": {
     "cellMetadata": {
      "byteLimit": 2048000,
      "rowLimit": 10000
     },
     "inputWidgets": {},
     "nuid": "6d64b2de-4c60-4f56-bcd0-ad21752f1d67",
     "showTitle": false,
     "tableResultSettingsMap": {},
     "title": ""
    }
   },
   "outputs": [
    {
     "output_type": "stream",
     "name": "stdout",
     "output_type": "stream",
     "text": [
      "+-----------+-----------+------------+---------+--------+--------+--------------------+--------------+----------+-----------+----------------+----------------+------------+\n|   Retailer|Retailer ID|Invoice Date|   Region|   State|    City|             Product|Price per Unit|Units Sold|Total Sales|Operating Profit|Operating Margin|Sales Method|\n+-----------+-----------+------------+---------+--------+--------+--------------------+--------------+----------+-----------+----------------+----------------+------------+\n|Foot Locker|    1185732|  2020-01-01|Northeast|New York|New York|Men's Street Foot...|          50.0|     1,200|   600,000 |        300,000 |             50%|    In-store|\n|Foot Locker|    1185732|  2020-01-02|Northeast|New York|New York|Men's Athletic Fo...|          50.0|     1,000|   500,000 |        150,000 |             30%|    In-store|\n|Foot Locker|    1185732|  2020-01-03|Northeast|New York|New York|Women's Street Fo...|          40.0|     1,000|   400,000 |        140,000 |             35%|    In-store|\n|Foot Locker|    1185732|  2020-01-04|Northeast|New York|New York|Women's Athletic ...|          45.0|       850|   382,500 |        133,875 |             35%|    In-store|\n|Foot Locker|    1185732|  2020-01-05|Northeast|New York|New York|       Men's Apparel|          60.0|       900|   540,000 |        162,000 |             30%|    In-store|\n|Foot Locker|    1185732|  2020-01-06|Northeast|New York|New York|     Women's Apparel|          50.0|     1,000|   500,000 |        125,000 |             25%|    In-store|\n|Foot Locker|    1185732|  2020-01-07|Northeast|New York|New York|Men's Street Foot...|          50.0|     1,250|   625,000 |        312,500 |             50%|    In-store|\n|Foot Locker|    1185732|  2020-01-08|Northeast|New York|New York|Men's Athletic Fo...|          50.0|       900|   450,000 |        135,000 |             30%|      Outlet|\n|Foot Locker|    1185732|  2020-01-21|Northeast|New York|New York|Women's Street Fo...|          40.0|       950|   380,000 |        133,000 |             35%|      Outlet|\n|Foot Locker|    1185732|  2020-01-22|Northeast|New York|New York|Women's Athletic ...|          45.0|       825|   371,250 |        129,938 |             35%|      Outlet|\n|Foot Locker|    1185732|  2020-01-23|Northeast|New York|New York|       Men's Apparel|          60.0|       900|   540,000 |        162,000 |             30%|      Outlet|\n|Foot Locker|    1185732|  2020-01-24|Northeast|New York|New York|     Women's Apparel|          50.0|     1,000|   500,000 |        125,000 |             25%|      Outlet|\n|Foot Locker|    1185732|  2020-01-25|Northeast|New York|New York|Men's Street Foot...|          50.0|     1,220|   610,000 |        305,000 |             50%|      Outlet|\n|Foot Locker|    1185732|  2020-01-26|Northeast|New York|New York|Men's Athletic Fo...|          50.0|       925|   462,500 |        138,750 |             30%|      Outlet|\n|Foot Locker|    1185732|  2020-01-27|Northeast|New York|New York|Women's Street Fo...|          40.0|       950|   380,000 |        133,000 |             35%|      Outlet|\n|Foot Locker|    1185732|  2020-01-28|Northeast|New York|New York|Women's Athletic ...|          45.0|       800|   360,000 |        126,000 |             35%|      Outlet|\n|Foot Locker|    1185732|  2020-01-29|Northeast|New York|New York|       Men's Apparel|          60.0|       850|   510,000 |        153,000 |             30%|      Outlet|\n|Foot Locker|    1185732|  2020-01-30|Northeast|New York|New York|     Women's Apparel|          50.0|       950|   475,000 |        118,750 |             25%|      Outlet|\n|Foot Locker|    1185732|  2020-01-31|Northeast|New York|New York|Men's Street Foot...|          50.0|     1,200|   600,000 |        300,000 |             50%|      Outlet|\n|Foot Locker|    1185732|  2020-02-01|Northeast|New York|New York|Men's Athletic Fo...|          50.0|       900|   450,000 |        135,000 |             30%|      Outlet|\n+-----------+-----------+------------+---------+--------+--------+--------------------+--------------+----------+-----------+----------------+----------------+------------+\nonly showing top 20 rows\n"
     ]
    }
   ],
   "source": [
    "df=spark.read.csv('/FileStore/tables/Adidas_US_Sales_Datasets.csv',header=True,inferSchema=True)\n",
    "df.show()"
   ]
  },
  {
   "cell_type": "code",
   "execution_count": 0,
   "metadata": {
    "application/vnd.databricks.v1+cell": {
     "cellMetadata": {
      "byteLimit": 2048000,
      "rowLimit": 10000
     },
     "inputWidgets": {},
     "nuid": "25cfefad-fff8-4fae-bf9c-d9d6cc2c0d0b",
     "showTitle": false,
     "tableResultSettingsMap": {},
     "title": ""
    }
   },
   "outputs": [],
   "source": [
    "df.createOrReplaceTempView('sales_analysis')"
   ]
  },
  {
   "cell_type": "code",
   "execution_count": 0,
   "metadata": {
    "application/vnd.databricks.v1+cell": {
     "cellMetadata": {
      "byteLimit": 2048000,
      "implicitDf": true,
      "rowLimit": 10000
     },
     "inputWidgets": {},
     "nuid": "1e3cf978-f9f1-4200-ae7b-f213480bb177",
     "showTitle": false,
     "tableResultSettingsMap": {},
     "title": ""
    }
   },
   "outputs": [],
   "source": [
    "%sql select * from sales_analysis"
   ]
  },
  {
   "cell_type": "code",
   "execution_count": 0,
   "metadata": {
    "application/vnd.databricks.v1+cell": {
     "cellMetadata": {
      "byteLimit": 2048000,
      "implicitDf": true,
      "rowLimit": 10000
     },
     "inputWidgets": {},
     "nuid": "abc444c6-c106-45f8-915b-8204a90ee983",
     "showTitle": false,
     "tableResultSettingsMap": {},
     "title": ""
    }
   },
   "outputs": [
    {
     "output_type": "display_data",
     "data": {
      "text/html": [
       "<style scoped>\n",
       "  .table-result-container {\n",
       "    max-height: 300px;\n",
       "    overflow: auto;\n",
       "  }\n",
       "  table, th, td {\n",
       "    border: 1px solid black;\n",
       "    border-collapse: collapse;\n",
       "  }\n",
       "  th, td {\n",
       "    padding: 5px;\n",
       "  }\n",
       "  th {\n",
       "    text-align: left;\n",
       "  }\n",
       "</style><div class='table-result-container'><table class='table-result'><thead style='background-color: white'><tr><th>totalsales</th><th>totaloperatingprofit</th><th>totalprice</th><th>totalunitssold</th></tr></thead><tbody><tr><td>107905.0</td><td>635412.0</td><td>436250.0</td><td>2421491.0</td></tr></tbody></table></div>"
      ]
     },
     "metadata": {
      "application/vnd.databricks.v1+output": {
       "addedWidgets": {},
       "aggData": [],
       "aggError": "",
       "aggOverflow": false,
       "aggSchema": [],
       "aggSeriesLimitReached": false,
       "aggType": "",
       "arguments": {},
       "columnCustomDisplayInfos": {},
       "data": [
        [
         107905.0,
         635412.0,
         436250.0,
         2421491.0
        ]
       ],
       "datasetInfos": [],
       "dbfsResultPath": null,
       "isJsonSchema": true,
       "metadata": {
        "createTempViewForImplicitDf": true,
        "dataframeName": "_sqldf",
        "executionCount": 37
       },
       "overflow": false,
       "plotOptions": {
        "customPlotOptions": {},
        "displayType": "table",
        "pivotAggregation": null,
        "pivotColumns": null,
        "xColumns": null,
        "yColumns": null
       },
       "removedWidgets": [],
       "schema": [
        {
         "metadata": "{}",
         "name": "totalsales",
         "type": "\"double\""
        },
        {
         "metadata": "{}",
         "name": "totaloperatingprofit",
         "type": "\"double\""
        },
        {
         "metadata": "{}",
         "name": "totalprice",
         "type": "\"double\""
        },
        {
         "metadata": "{}",
         "name": "totalunitssold",
         "type": "\"double\""
        }
       ],
       "type": "table"
      }
     },
     "output_type": "display_data"
    },
    {
     "output_type": "display_data",
     "data": {
      "text/plain": [
       "Databricks visualization. Run in Databricks to view."
      ]
     },
     "metadata": {
      "application/vnd.databricks.v1.subcommand+json": {
       "baseErrorDetails": null,
       "bindings": {},
       "collapsed": false,
       "command": "%sql select sum(`Total Sales`) as totalsales, sum(`Operating Profit`) as totaloperatingprofit, sum(`Price per Unit`) as totalprice,sum(`Units Sold`) as totalunitssold from sales_analysis",
       "commandTitle": "Visualization 1",
       "commandType": "auto",
       "commandVersion": 0,
       "commentThread": [],
       "commentsVisible": false,
       "contentSha256Hex": null,
       "customPlotOptions": {
        "redashChart": [
         {
          "key": "type",
          "value": "TABLE"
         },
         {
          "key": "options",
          "value": {
           "columns": [
            {
             "alignContent": "right",
             "allowHTML": false,
             "allowSearch": false,
             "booleanValues": [
              "false",
              "true"
             ],
             "displayAs": "number",
             "highlightLinks": false,
             "imageHeight": "",
             "imageTitleTemplate": "{{ @ }}",
             "imageUrlTemplate": "{{ @ }}",
             "imageWidth": "",
             "linkOpenInNewTab": true,
             "linkTextTemplate": "{{ @ }}",
             "linkTitleTemplate": "{{ @ }}",
             "linkUrlTemplate": "{{ @ }}",
             "name": "totalsales",
             "numberFormat": "0.00",
             "order": 100000,
             "preserveWhitespace": false,
             "title": "totalsales",
             "type": "float",
             "useMonospaceFont": false,
             "visible": true
            },
            {
             "alignContent": "right",
             "allowHTML": false,
             "allowSearch": false,
             "booleanValues": [
              "false",
              "true"
             ],
             "displayAs": "number",
             "highlightLinks": false,
             "imageHeight": "",
             "imageTitleTemplate": "{{ @ }}",
             "imageUrlTemplate": "{{ @ }}",
             "imageWidth": "",
             "linkOpenInNewTab": true,
             "linkTextTemplate": "{{ @ }}",
             "linkTitleTemplate": "{{ @ }}",
             "linkUrlTemplate": "{{ @ }}",
             "name": "totaloperatingprofit",
             "numberFormat": "0.00",
             "order": 100001,
             "preserveWhitespace": false,
             "title": "totaloperatingprofit",
             "type": "float",
             "useMonospaceFont": false,
             "visible": true
            },
            {
             "alignContent": "right",
             "allowHTML": false,
             "allowSearch": false,
             "booleanValues": [
              "false",
              "true"
             ],
             "displayAs": "number",
             "highlightLinks": false,
             "imageHeight": "",
             "imageTitleTemplate": "{{ @ }}",
             "imageUrlTemplate": "{{ @ }}",
             "imageWidth": "",
             "linkOpenInNewTab": true,
             "linkTextTemplate": "{{ @ }}",
             "linkTitleTemplate": "{{ @ }}",
             "linkUrlTemplate": "{{ @ }}",
             "name": "totalprice",
             "numberFormat": "0.00",
             "order": 100002,
             "preserveWhitespace": false,
             "title": "totalprice",
             "type": "float",
             "useMonospaceFont": false,
             "visible": true
            },
            {
             "alignContent": "right",
             "allowHTML": false,
             "allowSearch": false,
             "booleanValues": [
              "false",
              "true"
             ],
             "displayAs": "number",
             "highlightLinks": false,
             "imageHeight": "",
             "imageTitleTemplate": "{{ @ }}",
             "imageUrlTemplate": "{{ @ }}",
             "imageWidth": "",
             "linkOpenInNewTab": true,
             "linkTextTemplate": "{{ @ }}",
             "linkTitleTemplate": "{{ @ }}",
             "linkUrlTemplate": "{{ @ }}",
             "name": "totalunitssold",
             "numberFormat": "0.00",
             "order": 100003,
             "preserveWhitespace": false,
             "title": "totalunitssold",
             "type": "float",
             "useMonospaceFont": false,
             "visible": true
            }
           ],
           "condensed": true,
           "itemsPerPage": 25,
           "paginationSize": "default",
           "version": 2,
           "withRowNumber": false
          }
         }
        ]
       },
       "datasetPreviewNameToCmdIdMap": {},
       "diffDeletes": [],
       "diffInserts": [],
       "displayType": "redashChart",
       "error": null,
       "errorDetails": null,
       "errorSummary": null,
       "errorTraceType": null,
       "finishTime": 0,
       "globalVars": {},
       "guid": "",
       "height": "100",
       "hideCommandCode": false,
       "hideCommandResult": false,
       "iPythonMetadata": null,
       "inputWidgets": {},
       "isLockedInExamMode": false,
       "latestUser": "a user",
       "latestUserId": null,
       "listResultMetadata": null,
       "metadata": {
        "byteLimit": 2048000,
        "implicitDf": true,
        "rowLimit": 10000
       },
       "nuid": "0fffffed-9fbb-4c9e-b2eb-35e81f6ee847",
       "origId": 0,
       "parentHierarchy": [],
       "pivotAggregation": null,
       "pivotColumns": null,
       "position": 104.0,
       "resultDbfsErrorMessage": null,
       "resultDbfsStatus": "INLINED_IN_TREE",
       "results": null,
       "showCommandTitle": false,
       "startTime": 0,
       "state": "finished",
       "streamStates": {},
       "subcommandOptions": {},
       "submitTime": 0,
       "subtype": "tableResultSubCmd.visualization",
       "tableResultIndex": 0,
       "tableResultSettingsMap": {},
       "useConsistentColors": false,
       "version": "CommandV1",
       "width": "910",
       "workflows": [],
       "xColumns": null,
       "yColumns": null
      }
     },
     "output_type": "display_data"
    },
    {
     "output_type": "display_data",
     "data": {
      "text/html": [
       "<style scoped>\n",
       "  .ansiout {\n",
       "    display: block;\n",
       "    unicode-bidi: embed;\n",
       "    white-space: pre-wrap;\n",
       "    word-wrap: break-word;\n",
       "    word-break: break-all;\n",
       "    font-family: \"Menlo\", \"Monaco\", \"Consolas\", \"Ubuntu Mono\", \"Source Code Pro\", monospace;\n",
       "    font-size: 13px;\n",
       "    color: #555;\n",
       "    margin-left: 4px;\n",
       "    line-height: 19px;\n",
       "  }\n",
       "</style>"
      ]
     },
     "metadata": {
      "application/vnd.databricks.v1+output": {
       "arguments": {},
       "data": "",
       "errorSummary": "",
       "errorTraceType": null,
       "metadata": {},
       "type": "ipynbError"
      }
     },
     "output_type": "display_data"
    }
   ],
   "source": [
    "%sql select sum(`Total Sales`) as totalsales, sum(`Operating Profit`) as totaloperatingprofit, sum(`Price per Unit`) as totalprice,sum(`Units Sold`) as totalunitssold from sales_analysis"
   ]
  },
  {
   "cell_type": "code",
   "execution_count": 0,
   "metadata": {
    "application/vnd.databricks.v1+cell": {
     "cellMetadata": {
      "byteLimit": 2048000,
      "implicitDf": true,
      "rowLimit": 10000
     },
     "inputWidgets": {},
     "nuid": "6fd87ab2-bc14-4cda-b919-f2e27c497780",
     "showTitle": false,
     "tableResultSettingsMap": {},
     "title": ""
    }
   },
   "outputs": [
    {
     "output_type": "display_data",
     "data": {
      "text/html": [
       "<style scoped>\n",
       "  .table-result-container {\n",
       "    max-height: 300px;\n",
       "    overflow: auto;\n",
       "  }\n",
       "  table, th, td {\n",
       "    border: 1px solid black;\n",
       "    border-collapse: collapse;\n",
       "  }\n",
       "  th, td {\n",
       "    padding: 5px;\n",
       "  }\n",
       "  th {\n",
       "    text-align: left;\n",
       "  }\n",
       "</style><div class='table-result-container'><table class='table-result'><thead style='background-color: white'><tr><th>totalsales</th><th>month</th></tr></thead><tbody><tr><td>5060.0</td><td>July</td></tr><tr><td>8142.0</td><td>November</td></tr><tr><td>13056.0</td><td>February</td></tr><tr><td>6602.0</td><td>January</td></tr><tr><td>20611.0</td><td>March</td></tr><tr><td>10983.0</td><td>October</td></tr><tr><td>2361.0</td><td>May</td></tr><tr><td>null</td><td>August</td></tr><tr><td>20135.0</td><td>April</td></tr><tr><td>5511.0</td><td>June</td></tr><tr><td>3979.0</td><td>December</td></tr><tr><td>11465.0</td><td>September</td></tr></tbody></table></div>"
      ]
     },
     "metadata": {
      "application/vnd.databricks.v1+output": {
       "addedWidgets": {},
       "aggData": [],
       "aggError": "",
       "aggOverflow": false,
       "aggSchema": [],
       "aggSeriesLimitReached": false,
       "aggType": "",
       "arguments": {},
       "columnCustomDisplayInfos": {},
       "data": [
        [
         5060.0,
         "July"
        ],
        [
         8142.0,
         "November"
        ],
        [
         13056.0,
         "February"
        ],
        [
         6602.0,
         "January"
        ],
        [
         20611.0,
         "March"
        ],
        [
         10983.0,
         "October"
        ],
        [
         2361.0,
         "May"
        ],
        [
         null,
         "August"
        ],
        [
         20135.0,
         "April"
        ],
        [
         5511.0,
         "June"
        ],
        [
         3979.0,
         "December"
        ],
        [
         11465.0,
         "September"
        ]
       ],
       "datasetInfos": [],
       "dbfsResultPath": null,
       "isJsonSchema": true,
       "metadata": {
        "createTempViewForImplicitDf": true,
        "dataframeName": "_sqldf",
        "executionCount": 38
       },
       "overflow": false,
       "plotOptions": {
        "customPlotOptions": {},
        "displayType": "table",
        "pivotAggregation": null,
        "pivotColumns": null,
        "xColumns": null,
        "yColumns": null
       },
       "removedWidgets": [],
       "schema": [
        {
         "metadata": "{}",
         "name": "totalsales",
         "type": "\"double\""
        },
        {
         "metadata": "{}",
         "name": "month",
         "type": "\"string\""
        }
       ],
       "type": "table"
      }
     },
     "output_type": "display_data"
    },
    {
     "output_type": "display_data",
     "data": {
      "text/plain": [
       "Databricks visualization. Run in Databricks to view."
      ]
     },
     "metadata": {
      "application/vnd.databricks.v1.subcommand+json": {
       "baseErrorDetails": null,
       "bindings": {},
       "collapsed": false,
       "command": "%sql WITH q AS (select sum(`Total Sales`) totalsales,date_format(`Invoice Date`,'MMMM' ) month from sales_analysis\ngroup by 2) SELECT `month`,SUM(`totalsales`) `column_a30d907014` FROM q GROUP BY `month`",
       "commandTitle": "Visualization 1",
       "commandType": "auto",
       "commandVersion": 0,
       "commentThread": [],
       "commentsVisible": false,
       "contentSha256Hex": null,
       "customPlotOptions": {
        "redashChart": [
         {
          "key": "type",
          "value": "CHART"
         },
         {
          "key": "options",
          "value": {
           "alignYAxesAtZero": true,
           "coefficient": 1,
           "columnConfigurationMap": {
            "x": {
             "column": "month",
             "id": "column_a30d907013"
            },
            "y": [
             {
              "column": "totalsales",
              "id": "column_a30d907014",
              "transform": "SUM"
             }
            ]
           },
           "dateTimeFormat": "DD/MM/YYYY HH:mm",
           "direction": {
            "type": "counterclockwise"
           },
           "error_y": {
            "type": "data",
            "visible": true
           },
           "globalSeriesType": "column",
           "legend": {
            "traceorder": "normal"
           },
           "missingValuesAsZero": true,
           "numberFormat": "0,0.[00000]",
           "percentFormat": "0[.]00%",
           "series": {
            "error_y": {
             "type": "data",
             "visible": true
            },
            "stacking": null
           },
           "seriesOptions": {
            "column_a30d907014": {
             "name": "totalsales",
             "yAxis": 0
            }
           },
           "showDataLabels": false,
           "sizemode": "diameter",
           "sortX": true,
           "sortY": true,
           "swappedAxes": true,
           "textFormat": "",
           "useAggregationsUi": true,
           "valuesOptions": {},
           "version": 2,
           "xAxis": {
            "labels": {
             "enabled": true
            },
            "type": "-"
           },
           "yAxis": [
            {
             "type": "-"
            },
            {
             "opposite": true,
             "type": "-"
            }
           ]
          }
         }
        ]
       },
       "datasetPreviewNameToCmdIdMap": {},
       "diffDeletes": [],
       "diffInserts": [],
       "displayType": "redashChart",
       "error": null,
       "errorDetails": null,
       "errorSummary": null,
       "errorTraceType": null,
       "finishTime": 1736919093084,
       "globalVars": {},
       "guid": "",
       "height": "314",
       "hideCommandCode": false,
       "hideCommandResult": false,
       "iPythonMetadata": null,
       "inputWidgets": {},
       "isLockedInExamMode": false,
       "latestUser": "a user",
       "latestUserId": null,
       "listResultMetadata": [
        [
         "table",
         12
        ]
       ],
       "metadata": {
        "byteLimit": 2048000,
        "implicitDf": true,
        "rowLimit": 10000
       },
       "nuid": "e759347c-65e9-4122-a56c-20ef6fb6bfb9",
       "origId": 0,
       "parentHierarchy": [],
       "pivotAggregation": null,
       "pivotColumns": null,
       "position": 105.0,
       "resultDbfsErrorMessage": null,
       "resultDbfsStatus": "INLINED_IN_TREE",
       "results": {
        "addedWidgets": {},
        "arguments": {},
        "data": [
         {
          "addedWidgets": {},
          "aggData": [],
          "aggError": "",
          "aggOverflow": false,
          "aggSchema": [],
          "aggSeriesLimitReached": false,
          "aggType": "",
          "arguments": {},
          "columnCustomDisplayInfos": {},
          "data": [
           [
            "July",
            5060.0
           ],
           [
            "November",
            8142.0
           ],
           [
            "February",
            13056.0
           ],
           [
            "January",
            6602.0
           ],
           [
            "March",
            20611.0
           ],
           [
            "October",
            10983.0
           ],
           [
            "May",
            2361.0
           ],
           [
            "August",
            null
           ],
           [
            "April",
            20135.0
           ],
           [
            "June",
            5511.0
           ],
           [
            "December",
            3979.0
           ],
           [
            "September",
            11465.0
           ]
          ],
          "datasetInfos": [],
          "dbfsResultPath": null,
          "isJsonSchema": true,
          "metadata": {
           "createTempViewForImplicitDf": true,
           "dataframeName": "_sqldf",
           "executionCount": 39
          },
          "overflow": false,
          "plotOptions": null,
          "removedWidgets": [],
          "schema": [
           {
            "metadata": "{}",
            "name": "month",
            "type": "\"string\""
           },
           {
            "metadata": "{}",
            "name": "column_a30d907014",
            "type": "\"double\""
           }
          ],
          "type": "table"
         }
        ],
        "datasetInfos": [
         {
          "name": "_sqldf",
          "schema": {
           "fields": [
            {
             "metadata": {},
             "name": "month",
             "nullable": true,
             "type": "string"
            },
            {
             "metadata": {},
             "name": "column_a30d907014",
             "nullable": true,
             "type": "double"
            }
           ],
           "type": "struct"
          },
          "tableIdentifier": null,
          "typeStr": "pyspark.sql.dataframe.DataFrame"
         }
        ],
        "metadata": {
         "isDbfsCommandResult": false
        },
        "removedWidgets": [],
        "type": "listResults"
       },
       "showCommandTitle": false,
       "startTime": 1736919092395,
       "state": "finished",
       "streamStates": {},
       "subcommandOptions": {
        "queryPlan": {
         "groups": [
          {
           "column": "month",
           "type": "column"
          }
         ],
         "selects": [
          {
           "column": "month",
           "type": "column"
          },
          {
           "alias": "column_a30d907014",
           "args": [
            {
             "column": "totalsales",
             "type": "column"
            }
           ],
           "function": "SUM",
           "type": "function"
          }
         ]
        }
       },
       "submitTime": 1736919088783,
       "subtype": "tableResultSubCmd.visualization",
       "tableResultIndex": 0,
       "tableResultSettingsMap": {},
       "useConsistentColors": false,
       "version": "CommandV1",
       "width": "906",
       "workflows": [],
       "xColumns": null,
       "yColumns": null
      }
     },
     "output_type": "display_data"
    },
    {
     "output_type": "display_data",
     "data": {
      "text/plain": [
       "Databricks visualization. Run in Databricks to view."
      ]
     },
     "metadata": {
      "application/vnd.databricks.v1.subcommand+json": {
       "baseErrorDetails": null,
       "bindings": {},
       "collapsed": false,
       "command": "%sql WITH q AS (select sum(`Total Sales`) totalsales,date_format(`Invoice Date`,'MMMM' ) month from sales_analysis\ngroup by 2) SELECT `month`,SUM(`totalsales`) `column_a30d907016` FROM q GROUP BY `month`",
       "commandTitle": "Visualization 2",
       "commandType": "auto",
       "commandVersion": 0,
       "commentThread": [],
       "commentsVisible": false,
       "contentSha256Hex": null,
       "customPlotOptions": {
        "redashChart": [
         {
          "key": "type",
          "value": "CHART"
         },
         {
          "key": "options",
          "value": {
           "alignYAxesAtZero": true,
           "coefficient": 1,
           "columnConfigurationMap": {
            "x": {
             "column": "month",
             "id": "column_a30d907015"
            },
            "y": [
             {
              "column": "totalsales",
              "id": "column_a30d907016",
              "transform": "SUM"
             }
            ]
           },
           "dateTimeFormat": "DD/MM/YYYY HH:mm",
           "direction": {
            "type": "counterclockwise"
           },
           "error_y": {
            "type": "data",
            "visible": true
           },
           "globalSeriesType": "line",
           "isAggregationOn": true,
           "legend": {
            "traceorder": "normal"
           },
           "missingValuesAsZero": true,
           "numberFormat": "0,0.[00000]",
           "percentFormat": "0[.]00%",
           "series": {
            "error_y": {
             "type": "data",
             "visible": true
            },
            "stacking": null
           },
           "seriesOptions": {
            "column_a30d907016": {
             "name": "totalsales",
             "type": "line",
             "yAxis": 0
            }
           },
           "showDataLabels": true,
           "sizemode": "diameter",
           "sortX": true,
           "sortY": true,
           "swappedAxes": false,
           "textFormat": "",
           "useAggregationsUi": true,
           "valuesOptions": {},
           "version": 2,
           "xAxis": {
            "labels": {
             "enabled": true
            },
            "type": "-"
           },
           "yAxis": [
            {
             "type": "-"
            },
            {
             "opposite": true,
             "type": "-"
            }
           ]
          }
         }
        ]
       },
       "datasetPreviewNameToCmdIdMap": {},
       "diffDeletes": [],
       "diffInserts": [],
       "displayType": "redashChart",
       "error": null,
       "errorDetails": null,
       "errorSummary": null,
       "errorTraceType": null,
       "finishTime": 0,
       "globalVars": {},
       "guid": "",
       "height": "194",
       "hideCommandCode": false,
       "hideCommandResult": false,
       "iPythonMetadata": null,
       "inputWidgets": {},
       "isLockedInExamMode": false,
       "latestUser": "a user",
       "latestUserId": null,
       "listResultMetadata": null,
       "metadata": {
        "byteLimit": 2048000,
        "implicitDf": true,
        "rowLimit": 10000
       },
       "nuid": "f062dd75-46f5-4278-a534-dec9fc7ac4f9",
       "origId": 0,
       "parentHierarchy": [],
       "pivotAggregation": null,
       "pivotColumns": null,
       "position": 106.0,
       "resultDbfsErrorMessage": null,
       "resultDbfsStatus": "INLINED_IN_TREE",
       "results": null,
       "showCommandTitle": false,
       "startTime": 0,
       "state": "finished",
       "streamStates": {},
       "subcommandOptions": {
        "queryPlan": {
         "groups": [
          {
           "column": "month",
           "type": "column"
          }
         ],
         "selects": [
          {
           "column": "month",
           "type": "column"
          },
          {
           "alias": "column_a30d907016",
           "args": [
            {
             "column": "totalsales",
             "type": "column"
            }
           ],
           "function": "SUM",
           "type": "function"
          }
         ]
        }
       },
       "submitTime": 0,
       "subtype": "tableResultSubCmd.visualization",
       "tableResultIndex": 0,
       "tableResultSettingsMap": {},
       "useConsistentColors": false,
       "version": "CommandV1",
       "width": "795",
       "workflows": [],
       "xColumns": null,
       "yColumns": null
      }
     },
     "output_type": "display_data"
    }
   ],
   "source": [
    "%sql select sum(`Total Sales`) totalsales,date_format(`Invoice Date`,'MMMM' ) month from sales_analysis\n",
    "group by 2"
   ]
  },
  {
   "cell_type": "code",
   "execution_count": 0,
   "metadata": {
    "application/vnd.databricks.v1+cell": {
     "cellMetadata": {
      "byteLimit": 2048000,
      "implicitDf": true,
      "rowLimit": 10000
     },
     "inputWidgets": {},
     "nuid": "1461d1b6-f440-40d8-aed3-14dae86b98b3",
     "showTitle": false,
     "tableResultSettingsMap": {},
     "title": ""
    }
   },
   "outputs": [
    {
     "output_type": "display_data",
     "data": {
      "text/html": [
       "<style scoped>\n",
       "  .table-result-container {\n",
       "    max-height: 300px;\n",
       "    overflow: auto;\n",
       "  }\n",
       "  table, th, td {\n",
       "    border: 1px solid black;\n",
       "    border-collapse: collapse;\n",
       "  }\n",
       "  th, td {\n",
       "    padding: 5px;\n",
       "  }\n",
       "  th {\n",
       "    text-align: left;\n",
       "  }\n",
       "</style><div class='table-result-container'><table class='table-result'><thead style='background-color: white'><tr><th>totalsales</th><th>State</th></tr></thead><tbody><tr><td>13273.0</td><td>Oklahoma</td></tr><tr><td>12609.0</td><td>Rhode Island</td></tr><tr><td>9318.0</td><td>Nebraska</td></tr><tr><td>7740.0</td><td>Minnesota</td></tr><tr><td>6770.0</td><td>Iowa</td></tr></tbody></table></div>"
      ]
     },
     "metadata": {
      "application/vnd.databricks.v1+output": {
       "addedWidgets": {},
       "aggData": [],
       "aggError": "",
       "aggOverflow": false,
       "aggSchema": [],
       "aggSeriesLimitReached": false,
       "aggType": "",
       "arguments": {},
       "columnCustomDisplayInfos": {},
       "data": [
        [
         13273.0,
         "Oklahoma"
        ],
        [
         12609.0,
         "Rhode Island"
        ],
        [
         9318.0,
         "Nebraska"
        ],
        [
         7740.0,
         "Minnesota"
        ],
        [
         6770.0,
         "Iowa"
        ]
       ],
       "datasetInfos": [],
       "dbfsResultPath": null,
       "isJsonSchema": true,
       "metadata": {
        "createTempViewForImplicitDf": true,
        "dataframeName": "_sqldf",
        "executionCount": 40
       },
       "overflow": false,
       "plotOptions": {
        "customPlotOptions": {},
        "displayType": "table",
        "pivotAggregation": null,
        "pivotColumns": null,
        "xColumns": null,
        "yColumns": null
       },
       "removedWidgets": [],
       "schema": [
        {
         "metadata": "{}",
         "name": "totalsales",
         "type": "\"double\""
        },
        {
         "metadata": "{}",
         "name": "State",
         "type": "\"string\""
        }
       ],
       "type": "table"
      }
     },
     "output_type": "display_data"
    },
    {
     "output_type": "display_data",
     "data": {
      "text/plain": [
       "Databricks visualization. Run in Databricks to view."
      ]
     },
     "metadata": {
      "application/vnd.databricks.v1.subcommand+json": {
       "baseErrorDetails": null,
       "bindings": {},
       "collapsed": false,
       "command": "%sql WITH q AS (select sum(`Total Sales`) totalsales, State from sales_analysis\ngroup by 2\norder by 1 desc limit 5) SELECT `State`,SUM(`totalsales`) `column_a30d907020` FROM q GROUP BY `State`",
       "commandTitle": "Visualization 1",
       "commandType": "auto",
       "commandVersion": 0,
       "commentThread": [],
       "commentsVisible": false,
       "contentSha256Hex": null,
       "customPlotOptions": {
        "redashChart": [
         {
          "key": "type",
          "value": "CHART"
         },
         {
          "key": "options",
          "value": {
           "alignYAxesAtZero": true,
           "coefficient": 1,
           "columnConfigurationMap": {
            "x": {
             "column": "State",
             "id": "column_a30d907019"
            },
            "y": [
             {
              "column": "totalsales",
              "id": "column_a30d907020",
              "transform": "SUM"
             }
            ]
           },
           "dateTimeFormat": "DD/MM/YYYY HH:mm",
           "direction": {
            "type": "counterclockwise"
           },
           "error_y": {
            "type": "data",
            "visible": true
           },
           "globalSeriesType": "pie",
           "legend": {
            "traceorder": "normal"
           },
           "missingValuesAsZero": true,
           "numberFormat": "0,0.[00000]",
           "percentFormat": "0[.]00%",
           "series": {
            "error_y": {
             "type": "data",
             "visible": true
            },
            "stacking": null
           },
           "seriesOptions": {
            "column_a30d907020": {
             "name": "totalsales",
             "type": "pie",
             "yAxis": 0
            }
           },
           "showDataLabels": true,
           "sizemode": "diameter",
           "sortX": true,
           "sortY": true,
           "swappedAxes": false,
           "textFormat": "",
           "useAggregationsUi": true,
           "valuesOptions": {},
           "version": 2,
           "xAxis": {
            "labels": {
             "enabled": true
            },
            "type": "-"
           },
           "yAxis": [
            {
             "type": "-"
            },
            {
             "opposite": true,
             "type": "-"
            }
           ]
          }
         }
        ]
       },
       "datasetPreviewNameToCmdIdMap": {},
       "diffDeletes": [],
       "diffInserts": [],
       "displayType": "redashChart",
       "error": null,
       "errorDetails": null,
       "errorSummary": null,
       "errorTraceType": null,
       "finishTime": 0,
       "globalVars": {},
       "guid": "",
       "height": "196",
       "hideCommandCode": false,
       "hideCommandResult": false,
       "iPythonMetadata": null,
       "inputWidgets": {},
       "isLockedInExamMode": false,
       "latestUser": "a user",
       "latestUserId": null,
       "listResultMetadata": null,
       "metadata": {
        "byteLimit": 2048000,
        "implicitDf": true,
        "rowLimit": 10000
       },
       "nuid": "40e45a7c-f5c2-41b8-80e8-e149e91bcc73",
       "origId": 0,
       "parentHierarchy": [],
       "pivotAggregation": null,
       "pivotColumns": null,
       "position": 105.5,
       "resultDbfsErrorMessage": null,
       "resultDbfsStatus": "INLINED_IN_TREE",
       "results": null,
       "showCommandTitle": false,
       "startTime": 0,
       "state": "finished",
       "streamStates": {},
       "subcommandOptions": {
        "queryPlan": {
         "groups": [
          {
           "column": "State",
           "type": "column"
          }
         ],
         "selects": [
          {
           "column": "State",
           "type": "column"
          },
          {
           "alias": "column_a30d907020",
           "args": [
            {
             "column": "totalsales",
             "type": "column"
            }
           ],
           "function": "SUM",
           "type": "function"
          }
         ]
        }
       },
       "submitTime": 0,
       "subtype": "tableResultSubCmd.visualization",
       "tableResultIndex": 0,
       "tableResultSettingsMap": {},
       "useConsistentColors": false,
       "version": "CommandV1",
       "width": "867",
       "workflows": [],
       "xColumns": null,
       "yColumns": null
      }
     },
     "output_type": "display_data"
    }
   ],
   "source": [
    "%sql select sum(`Total Sales`) totalsales, State from sales_analysis\n",
    "group by 2\n",
    "order by 1 desc limit 5"
   ]
  },
  {
   "cell_type": "code",
   "execution_count": 0,
   "metadata": {
    "application/vnd.databricks.v1+cell": {
     "cellMetadata": {
      "byteLimit": 2048000,
      "implicitDf": true,
      "rowLimit": 10000
     },
     "inputWidgets": {},
     "nuid": "a1b74ef5-05b3-42a6-be94-775a5f0f47bf",
     "showTitle": false,
     "tableResultSettingsMap": {},
     "title": ""
    }
   },
   "outputs": [
    {
     "output_type": "display_data",
     "data": {
      "text/html": [
       "<style scoped>\n",
       "  .table-result-container {\n",
       "    max-height: 300px;\n",
       "    overflow: auto;\n",
       "  }\n",
       "  table, th, td {\n",
       "    border: 1px solid black;\n",
       "    border-collapse: collapse;\n",
       "  }\n",
       "  th, td {\n",
       "    padding: 5px;\n",
       "  }\n",
       "  th {\n",
       "    text-align: left;\n",
       "  }\n",
       "</style><div class='table-result-container'><table class='table-result'><thead style='background-color: white'><tr><th>totalsales</th><th>Product</th></tr></thead><tbody><tr><td>62033.0</td><td>Women's Athletic Footwear</td></tr><tr><td>23104.0</td><td>Women's Street Footwear</td></tr><tr><td>13883.0</td><td>Men's Apparel</td></tr><tr><td>7023.0</td><td>Men's Athletic Footwear</td></tr><tr><td>1862.0</td><td>Women's Apparel</td></tr></tbody></table></div>"
      ]
     },
     "metadata": {
      "application/vnd.databricks.v1+output": {
       "addedWidgets": {},
       "aggData": [],
       "aggError": "",
       "aggOverflow": false,
       "aggSchema": [],
       "aggSeriesLimitReached": false,
       "aggType": "",
       "arguments": {},
       "columnCustomDisplayInfos": {},
       "data": [
        [
         62033.0,
         "Women's Athletic Footwear"
        ],
        [
         23104.0,
         "Women's Street Footwear"
        ],
        [
         13883.0,
         "Men's Apparel"
        ],
        [
         7023.0,
         "Men's Athletic Footwear"
        ],
        [
         1862.0,
         "Women's Apparel"
        ]
       ],
       "datasetInfos": [],
       "dbfsResultPath": null,
       "isJsonSchema": true,
       "metadata": {
        "createTempViewForImplicitDf": true,
        "dataframeName": "_sqldf",
        "executionCount": 41
       },
       "overflow": false,
       "plotOptions": {
        "customPlotOptions": {},
        "displayType": "table",
        "pivotAggregation": null,
        "pivotColumns": null,
        "xColumns": null,
        "yColumns": null
       },
       "removedWidgets": [],
       "schema": [
        {
         "metadata": "{}",
         "name": "totalsales",
         "type": "\"double\""
        },
        {
         "metadata": "{}",
         "name": "Product",
         "type": "\"string\""
        }
       ],
       "type": "table"
      }
     },
     "output_type": "display_data"
    },
    {
     "output_type": "display_data",
     "data": {
      "text/plain": [
       "Databricks visualization. Run in Databricks to view."
      ]
     },
     "metadata": {
      "application/vnd.databricks.v1.subcommand+json": {
       "baseErrorDetails": null,
       "bindings": {},
       "collapsed": false,
       "command": "%sql WITH q AS (select sum(`Total Sales`) totalsales, Product from sales_analysis\ngroup by 2\norder by 1 desc limit 5) SELECT `Product`,SUM(`totalsales`) `column_a30d907023` FROM q GROUP BY `Product`",
       "commandTitle": "Visualization 1",
       "commandType": "auto",
       "commandVersion": 0,
       "commentThread": [],
       "commentsVisible": false,
       "contentSha256Hex": null,
       "customPlotOptions": {
        "redashChart": [
         {
          "key": "type",
          "value": "CHART"
         },
         {
          "key": "options",
          "value": {
           "alignYAxesAtZero": true,
           "coefficient": 1,
           "columnConfigurationMap": {
            "x": {
             "column": "Product",
             "id": "column_a30d907022"
            },
            "y": [
             {
              "column": "totalsales",
              "id": "column_a30d907023",
              "transform": "SUM"
             }
            ]
           },
           "dateTimeFormat": "DD/MM/YYYY HH:mm",
           "direction": {
            "type": "counterclockwise"
           },
           "error_y": {
            "type": "data",
            "visible": true
           },
           "globalSeriesType": "column",
           "isAggregationOn": true,
           "legend": {
            "traceorder": "normal"
           },
           "missingValuesAsZero": true,
           "numberFormat": "0,0.[00000]",
           "percentFormat": "0[.]00%",
           "series": {
            "error_y": {
             "type": "data",
             "visible": true
            },
            "stacking": null
           },
           "seriesOptions": {
            "column_a30d907023": {
             "name": "totalsales",
             "type": "column",
             "yAxis": 0
            }
           },
           "showDataLabels": false,
           "sizemode": "diameter",
           "sortX": false,
           "sortY": true,
           "swappedAxes": false,
           "textFormat": "",
           "useAggregationsUi": true,
           "valuesOptions": {},
           "version": 2,
           "xAxis": {
            "labels": {
             "enabled": true
            },
            "type": "-"
           },
           "yAxis": [
            {
             "type": "-"
            },
            {
             "opposite": true,
             "type": "-"
            }
           ]
          }
         }
        ]
       },
       "datasetPreviewNameToCmdIdMap": {},
       "diffDeletes": [],
       "diffInserts": [],
       "displayType": "redashChart",
       "error": null,
       "errorDetails": null,
       "errorSummary": null,
       "errorTraceType": null,
       "finishTime": 0,
       "globalVars": {},
       "guid": "",
       "height": "325",
       "hideCommandCode": false,
       "hideCommandResult": false,
       "iPythonMetadata": null,
       "inputWidgets": {},
       "isLockedInExamMode": false,
       "latestUser": "a user",
       "latestUserId": null,
       "listResultMetadata": null,
       "metadata": {
        "byteLimit": 2048000,
        "implicitDf": true,
        "rowLimit": 10000
       },
       "nuid": "04f43321-c67e-433f-b477-dd7b9eb66c1b",
       "origId": 0,
       "parentHierarchy": [],
       "pivotAggregation": null,
       "pivotColumns": null,
       "position": 105.75,
       "resultDbfsErrorMessage": null,
       "resultDbfsStatus": "INLINED_IN_TREE",
       "results": null,
       "showCommandTitle": false,
       "startTime": 0,
       "state": "finished",
       "streamStates": {},
       "subcommandOptions": {
        "queryPlan": {
         "groups": [
          {
           "column": "Product",
           "type": "column"
          }
         ],
         "selects": [
          {
           "column": "Product",
           "type": "column"
          },
          {
           "alias": "column_a30d907023",
           "args": [
            {
             "column": "totalsales",
             "type": "column"
            }
           ],
           "function": "SUM",
           "type": "function"
          }
         ]
        }
       },
       "submitTime": 0,
       "subtype": "tableResultSubCmd.visualization",
       "tableResultIndex": 0,
       "tableResultSettingsMap": {},
       "useConsistentColors": false,
       "version": "CommandV1",
       "width": "724",
       "workflows": [],
       "xColumns": null,
       "yColumns": null
      }
     },
     "output_type": "display_data"
    }
   ],
   "source": [
    "%sql select sum(`Total Sales`) totalsales, Product from sales_analysis\n",
    "group by 2\n",
    "order by 1 desc limit 5"
   ]
  },
  {
   "cell_type": "code",
   "execution_count": 0,
   "metadata": {
    "application/vnd.databricks.v1+cell": {
     "cellMetadata": {
      "byteLimit": 2048000,
      "implicitDf": true,
      "rowLimit": 10000
     },
     "inputWidgets": {},
     "nuid": "8e163323-a9c7-48dd-be5c-e7c4c7bedaa6",
     "showTitle": false,
     "tableResultSettingsMap": {},
     "title": ""
    }
   },
   "outputs": [
    {
     "output_type": "display_data",
     "data": {
      "text/html": [
       "<style scoped>\n",
       "  .table-result-container {\n",
       "    max-height: 300px;\n",
       "    overflow: auto;\n",
       "  }\n",
       "  table, th, td {\n",
       "    border: 1px solid black;\n",
       "    border-collapse: collapse;\n",
       "  }\n",
       "  th, td {\n",
       "    padding: 5px;\n",
       "  }\n",
       "  th {\n",
       "    text-align: left;\n",
       "  }\n",
       "</style><div class='table-result-container'><table class='table-result'><thead style='background-color: white'><tr><th>totalsales</th><th>Retailer</th></tr></thead><tbody><tr><td>50664.0</td><td>Foot Locker</td></tr><tr><td>30663.0</td><td>West Gear</td></tr><tr><td>10907.0</td><td>Sports Direct</td></tr><tr><td>8526.0</td><td>Kohl's</td></tr><tr><td>5369.0</td><td>Amazon</td></tr></tbody></table></div>"
      ]
     },
     "metadata": {
      "application/vnd.databricks.v1+output": {
       "addedWidgets": {},
       "aggData": [],
       "aggError": "",
       "aggOverflow": false,
       "aggSchema": [],
       "aggSeriesLimitReached": false,
       "aggType": "",
       "arguments": {},
       "columnCustomDisplayInfos": {},
       "data": [
        [
         50664.0,
         "Foot Locker"
        ],
        [
         30663.0,
         "West Gear"
        ],
        [
         10907.0,
         "Sports Direct"
        ],
        [
         8526.0,
         "Kohl's"
        ],
        [
         5369.0,
         "Amazon"
        ]
       ],
       "datasetInfos": [],
       "dbfsResultPath": null,
       "isJsonSchema": true,
       "metadata": {
        "createTempViewForImplicitDf": true,
        "dataframeName": "_sqldf",
        "executionCount": 42
       },
       "overflow": false,
       "plotOptions": {
        "customPlotOptions": {},
        "displayType": "table",
        "pivotAggregation": null,
        "pivotColumns": null,
        "xColumns": null,
        "yColumns": null
       },
       "removedWidgets": [],
       "schema": [
        {
         "metadata": "{}",
         "name": "totalsales",
         "type": "\"double\""
        },
        {
         "metadata": "{}",
         "name": "Retailer",
         "type": "\"string\""
        }
       ],
       "type": "table"
      }
     },
     "output_type": "display_data"
    },
    {
     "output_type": "display_data",
     "data": {
      "text/plain": [
       "Databricks visualization. Run in Databricks to view."
      ]
     },
     "metadata": {
      "application/vnd.databricks.v1.subcommand+json": {
       "baseErrorDetails": null,
       "bindings": {},
       "collapsed": false,
       "command": "%sql select sum(`Total Sales`) totalsales, Retailer from sales_analysis\ngroup by 2\norder by 1 desc limit 5",
       "commandTitle": "Visualization 1",
       "commandType": "auto",
       "commandVersion": 0,
       "commentThread": [],
       "commentsVisible": false,
       "contentSha256Hex": null,
       "customPlotOptions": {
        "redashChart": [
         {
          "key": "type",
          "value": "FUNNEL"
         },
         {
          "key": "options",
          "value": {
           "autoSort": true,
           "itemsLimit": 100,
           "numberFormat": "0,0.[00]",
           "percentFormat": "0[.]00%",
           "percentValuesRange": {
            "max": 1000,
            "min": 0.01
           },
           "sortKeyCol": {
            "colName": "totalsales",
            "reverse": true
           },
           "stepCol": {
            "colName": "Retailer",
            "displayAs": "Steps"
           },
           "valueCol": {
            "colName": "totalsales",
            "displayAs": "Value"
           }
          }
         }
        ]
       },
       "datasetPreviewNameToCmdIdMap": {},
       "diffDeletes": [],
       "diffInserts": [],
       "displayType": "redashChart",
       "error": null,
       "errorDetails": null,
       "errorSummary": null,
       "errorTraceType": null,
       "finishTime": 0,
       "globalVars": {},
       "guid": "",
       "height": "285",
       "hideCommandCode": false,
       "hideCommandResult": false,
       "iPythonMetadata": null,
       "inputWidgets": {},
       "isLockedInExamMode": false,
       "latestUser": "a user",
       "latestUserId": null,
       "listResultMetadata": null,
       "metadata": {
        "byteLimit": 2048000,
        "implicitDf": true,
        "rowLimit": 10000
       },
       "nuid": "7acb21ae-4913-4258-ac29-d9333da096e6",
       "origId": 0,
       "parentHierarchy": [],
       "pivotAggregation": null,
       "pivotColumns": null,
       "position": 105.875,
       "resultDbfsErrorMessage": null,
       "resultDbfsStatus": "INLINED_IN_TREE",
       "results": null,
       "showCommandTitle": false,
       "startTime": 0,
       "state": "finished",
       "streamStates": {},
       "subcommandOptions": {},
       "submitTime": 0,
       "subtype": "tableResultSubCmd.visualization",
       "tableResultIndex": 0,
       "tableResultSettingsMap": {},
       "useConsistentColors": false,
       "version": "CommandV1",
       "width": "749",
       "workflows": [],
       "xColumns": null,
       "yColumns": null
      }
     },
     "output_type": "display_data"
    }
   ],
   "source": [
    "%sql select sum(`Total Sales`) totalsales, Retailer from sales_analysis\n",
    "group by 2\n",
    "order by 1 desc limit 5"
   ]
  },
  {
   "cell_type": "code",
   "execution_count": 0,
   "metadata": {
    "application/vnd.databricks.v1+cell": {
     "cellMetadata": {
      "byteLimit": 2048000,
      "implicitDf": true,
      "rowLimit": 10000
     },
     "inputWidgets": {},
     "nuid": "b84b92c5-7a89-4325-a258-327fed3ecae0",
     "showTitle": false,
     "tableResultSettingsMap": {},
     "title": ""
    }
   },
   "outputs": [
    {
     "output_type": "display_data",
     "data": {
      "text/html": [
       "<style scoped>\n",
       "  .table-result-container {\n",
       "    max-height: 300px;\n",
       "    overflow: auto;\n",
       "  }\n",
       "  table, th, td {\n",
       "    border: 1px solid black;\n",
       "    border-collapse: collapse;\n",
       "  }\n",
       "  th, td {\n",
       "    padding: 5px;\n",
       "  }\n",
       "  th {\n",
       "    text-align: left;\n",
       "  }\n",
       "</style><div class='table-result-container'><table class='table-result'><thead style='background-color: white'><tr><th>totalunitssold</th><th>sales method</th></tr></thead><tbody><tr><td>672750.0</td><td>In-store</td></tr><tr><td>927428.0</td><td>Online</td></tr><tr><td>821313.0</td><td>Outlet</td></tr></tbody></table></div>"
      ]
     },
     "metadata": {
      "application/vnd.databricks.v1+output": {
       "addedWidgets": {},
       "aggData": [],
       "aggError": "",
       "aggOverflow": false,
       "aggSchema": [],
       "aggSeriesLimitReached": false,
       "aggType": "",
       "arguments": {},
       "columnCustomDisplayInfos": {},
       "data": [
        [
         672750.0,
         "In-store"
        ],
        [
         927428.0,
         "Online"
        ],
        [
         821313.0,
         "Outlet"
        ]
       ],
       "datasetInfos": [],
       "dbfsResultPath": null,
       "isJsonSchema": true,
       "metadata": {
        "createTempViewForImplicitDf": true,
        "dataframeName": "_sqldf",
        "executionCount": 43
       },
       "overflow": false,
       "plotOptions": {
        "customPlotOptions": {},
        "displayType": "table",
        "pivotAggregation": null,
        "pivotColumns": null,
        "xColumns": null,
        "yColumns": null
       },
       "removedWidgets": [],
       "schema": [
        {
         "metadata": "{}",
         "name": "totalunitssold",
         "type": "\"double\""
        },
        {
         "metadata": "{}",
         "name": "sales method",
         "type": "\"string\""
        }
       ],
       "type": "table"
      }
     },
     "output_type": "display_data"
    },
    {
     "output_type": "display_data",
     "data": {
      "text/plain": [
       "Databricks visualization. Run in Databricks to view."
      ]
     },
     "metadata": {
      "application/vnd.databricks.v1.subcommand+json": {
       "baseErrorDetails": null,
       "bindings": {},
       "collapsed": false,
       "command": "%sql WITH q AS (select sum(`Units Sold`) totalunitssold, `sales method`\n from sales_analysis\ngroup by 2) SELECT `sales method`,SUM(`totalunitssold`) `column_a451a07018` FROM q GROUP BY `sales method`",
       "commandTitle": "Visualization 1",
       "commandType": "auto",
       "commandVersion": 0,
       "commentThread": [],
       "commentsVisible": false,
       "contentSha256Hex": null,
       "customPlotOptions": {
        "redashChart": [
         {
          "key": "type",
          "value": "CHART"
         },
         {
          "key": "options",
          "value": {
           "alignYAxesAtZero": true,
           "coefficient": 1,
           "columnConfigurationMap": {
            "x": {
             "column": "sales method",
             "id": "column_a451a07017"
            },
            "y": [
             {
              "column": "totalunitssold",
              "id": "column_a451a07018",
              "transform": "SUM"
             }
            ]
           },
           "dateTimeFormat": "DD/MM/YYYY HH:mm",
           "direction": {
            "type": "counterclockwise"
           },
           "error_y": {
            "type": "data",
            "visible": true
           },
           "globalSeriesType": "pie",
           "legend": {
            "traceorder": "normal"
           },
           "missingValuesAsZero": true,
           "numberFormat": "0,0.[00000]",
           "percentFormat": "0[.]00%",
           "series": {
            "error_y": {
             "type": "data",
             "visible": true
            },
            "stacking": null
           },
           "seriesOptions": {
            "column_a451a07018": {
             "name": "totalunitssold",
             "type": "pie",
             "yAxis": 0
            }
           },
           "showDataLabels": true,
           "sizemode": "diameter",
           "sortX": true,
           "sortY": true,
           "swappedAxes": false,
           "textFormat": "",
           "useAggregationsUi": true,
           "valuesOptions": {},
           "version": 2,
           "xAxis": {
            "labels": {
             "enabled": true
            },
            "type": "-"
           },
           "yAxis": [
            {
             "type": "-"
            },
            {
             "opposite": true,
             "type": "-"
            }
           ]
          }
         }
        ]
       },
       "datasetPreviewNameToCmdIdMap": {},
       "diffDeletes": [],
       "diffInserts": [],
       "displayType": "redashChart",
       "error": null,
       "errorDetails": null,
       "errorSummary": null,
       "errorTraceType": null,
       "finishTime": 0,
       "globalVars": {},
       "guid": "",
       "height": "275",
       "hideCommandCode": false,
       "hideCommandResult": false,
       "iPythonMetadata": null,
       "inputWidgets": {},
       "isLockedInExamMode": false,
       "latestUser": "a user",
       "latestUserId": null,
       "listResultMetadata": null,
       "metadata": {
        "byteLimit": 2048000,
        "implicitDf": true,
        "rowLimit": 10000
       },
       "nuid": "cabefd15-0b53-480b-b5b3-1c51d5c91c39",
       "origId": 0,
       "parentHierarchy": [],
       "pivotAggregation": null,
       "pivotColumns": null,
       "position": 105.9375,
       "resultDbfsErrorMessage": null,
       "resultDbfsStatus": "INLINED_IN_TREE",
       "results": null,
       "showCommandTitle": false,
       "startTime": 0,
       "state": "finished",
       "streamStates": {},
       "subcommandOptions": {
        "queryPlan": {
         "groups": [
          {
           "column": "sales method",
           "type": "column"
          }
         ],
         "selects": [
          {
           "column": "sales method",
           "type": "column"
          },
          {
           "alias": "column_a451a07018",
           "args": [
            {
             "column": "totalunitssold",
             "type": "column"
            }
           ],
           "function": "SUM",
           "type": "function"
          }
         ]
        }
       },
       "submitTime": 0,
       "subtype": "tableResultSubCmd.visualization",
       "tableResultIndex": 0,
       "tableResultSettingsMap": {},
       "useConsistentColors": false,
       "version": "CommandV1",
       "width": "714",
       "workflows": [],
       "xColumns": null,
       "yColumns": null
      }
     },
     "output_type": "display_data"
    }
   ],
   "source": [
    "%sql select sum(`Units Sold`) totalunitssold, `sales method`\n",
    " from sales_analysis\n",
    "group by 2\n"
   ]
  },
  {
   "cell_type": "code",
   "execution_count": 0,
   "metadata": {
    "application/vnd.databricks.v1+cell": {
     "cellMetadata": {
      "byteLimit": 2048000,
      "implicitDf": true,
      "rowLimit": 10000
     },
     "inputWidgets": {},
     "nuid": "debd9fbc-49f4-421d-a70f-d7eba4e843e4",
     "showTitle": false,
     "tableResultSettingsMap": {},
     "title": ""
    }
   },
   "outputs": [
    {
     "output_type": "display_data",
     "data": {
      "text/html": [
       "<style scoped>\n",
       "  .table-result-container {\n",
       "    max-height: 300px;\n",
       "    overflow: auto;\n",
       "  }\n",
       "  table, th, td {\n",
       "    border: 1px solid black;\n",
       "    border-collapse: collapse;\n",
       "  }\n",
       "  th, td {\n",
       "    padding: 5px;\n",
       "  }\n",
       "  th {\n",
       "    text-align: left;\n",
       "  }\n",
       "</style><div class='table-result-container'><table class='table-result'><thead style='background-color: white'><tr><th>totalprofit</th><th>city</th></tr></thead><tbody><tr><td>40190.0</td><td>Providence</td></tr><tr><td>37393.0</td><td>Philadelphia</td></tr><tr><td>35842.0</td><td>Boston</td></tr><tr><td>31313.0</td><td>Portland</td></tr><tr><td>30809.0</td><td>Salt Lake City</td></tr></tbody></table></div>"
      ]
     },
     "metadata": {
      "application/vnd.databricks.v1+output": {
       "addedWidgets": {},
       "aggData": [],
       "aggError": "",
       "aggOverflow": false,
       "aggSchema": [],
       "aggSeriesLimitReached": false,
       "aggType": "",
       "arguments": {},
       "columnCustomDisplayInfos": {},
       "data": [
        [
         40190.0,
         "Providence"
        ],
        [
         37393.0,
         "Philadelphia"
        ],
        [
         35842.0,
         "Boston"
        ],
        [
         31313.0,
         "Portland"
        ],
        [
         30809.0,
         "Salt Lake City"
        ]
       ],
       "datasetInfos": [],
       "dbfsResultPath": null,
       "isJsonSchema": true,
       "metadata": {
        "createTempViewForImplicitDf": true,
        "dataframeName": "_sqldf",
        "executionCount": 44
       },
       "overflow": false,
       "plotOptions": {
        "customPlotOptions": {},
        "displayType": "table",
        "pivotAggregation": null,
        "pivotColumns": null,
        "xColumns": null,
        "yColumns": null
       },
       "removedWidgets": [],
       "schema": [
        {
         "metadata": "{}",
         "name": "totalprofit",
         "type": "\"double\""
        },
        {
         "metadata": "{}",
         "name": "city",
         "type": "\"string\""
        }
       ],
       "type": "table"
      }
     },
     "output_type": "display_data"
    },
    {
     "output_type": "display_data",
     "data": {
      "text/plain": [
       "Databricks visualization. Run in Databricks to view."
      ]
     },
     "metadata": {
      "application/vnd.databricks.v1.subcommand+json": {
       "baseErrorDetails": null,
       "bindings": {},
       "collapsed": false,
       "command": "%sql WITH q AS (select sum(`Operating Profit`) totalprofit, city from sales_analysis\ngroup by 2\norder by 1 desc limit 5) SELECT `city`,SUM(`totalprofit`) `column_a451a07021` FROM q GROUP BY `city`",
       "commandTitle": "Visualization 1",
       "commandType": "auto",
       "commandVersion": 0,
       "commentThread": [],
       "commentsVisible": false,
       "contentSha256Hex": null,
       "customPlotOptions": {
        "redashChart": [
         {
          "key": "type",
          "value": "CHART"
         },
         {
          "key": "options",
          "value": {
           "alignYAxesAtZero": true,
           "coefficient": 1,
           "columnConfigurationMap": {
            "x": {
             "column": "city",
             "id": "column_a451a07020"
            },
            "y": [
             {
              "column": "totalprofit",
              "id": "column_a451a07021",
              "transform": "SUM"
             }
            ]
           },
           "dateTimeFormat": "DD/MM/YYYY HH:mm",
           "direction": {
            "type": "counterclockwise"
           },
           "error_y": {
            "type": "data",
            "visible": true
           },
           "globalSeriesType": "column",
           "legend": {
            "traceorder": "normal"
           },
           "missingValuesAsZero": true,
           "numberFormat": "0,0.[00000]",
           "percentFormat": "0[.]00%",
           "series": {
            "error_y": {
             "type": "data",
             "visible": true
            },
            "stacking": null
           },
           "seriesOptions": {
            "column_a451a07021": {
             "name": "totalprofit",
             "yAxis": 0
            }
           },
           "showDataLabels": false,
           "sizemode": "diameter",
           "sortX": true,
           "sortY": true,
           "swappedAxes": true,
           "textFormat": "",
           "useAggregationsUi": true,
           "valuesOptions": {},
           "version": 2,
           "xAxis": {
            "labels": {
             "enabled": true
            },
            "type": "-"
           },
           "yAxis": [
            {
             "type": "-"
            },
            {
             "opposite": true,
             "type": "-"
            }
           ]
          }
         }
        ]
       },
       "datasetPreviewNameToCmdIdMap": {},
       "diffDeletes": [],
       "diffInserts": [],
       "displayType": "redashChart",
       "error": null,
       "errorDetails": null,
       "errorSummary": null,
       "errorTraceType": null,
       "finishTime": 0,
       "globalVars": {},
       "guid": "",
       "height": "258",
       "hideCommandCode": false,
       "hideCommandResult": false,
       "iPythonMetadata": null,
       "inputWidgets": {},
       "isLockedInExamMode": false,
       "latestUser": "a user",
       "latestUserId": null,
       "listResultMetadata": null,
       "metadata": {
        "byteLimit": 2048000,
        "implicitDf": true,
        "rowLimit": 10000
       },
       "nuid": "1ea51c13-7ecb-4767-9722-cb87f1709f4a",
       "origId": 0,
       "parentHierarchy": [],
       "pivotAggregation": null,
       "pivotColumns": null,
       "position": 105.96875,
       "resultDbfsErrorMessage": null,
       "resultDbfsStatus": "INLINED_IN_TREE",
       "results": null,
       "showCommandTitle": false,
       "startTime": 0,
       "state": "finished",
       "streamStates": {},
       "subcommandOptions": {
        "queryPlan": {
         "groups": [
          {
           "column": "city",
           "type": "column"
          }
         ],
         "selects": [
          {
           "column": "city",
           "type": "column"
          },
          {
           "alias": "column_a451a07021",
           "args": [
            {
             "column": "totalprofit",
             "type": "column"
            }
           ],
           "function": "SUM",
           "type": "function"
          }
         ]
        }
       },
       "submitTime": 0,
       "subtype": "tableResultSubCmd.visualization",
       "tableResultIndex": 0,
       "tableResultSettingsMap": {},
       "useConsistentColors": false,
       "version": "CommandV1",
       "width": "741",
       "workflows": [],
       "xColumns": null,
       "yColumns": null
      }
     },
     "output_type": "display_data"
    }
   ],
   "source": [
    "%sql select sum(`Operating Profit`) totalprofit, city from sales_analysis\n",
    "group by 2\n",
    "order by 1 desc limit 5"
   ]
  },
  {
   "cell_type": "markdown",
   "metadata": {
    "application/vnd.databricks.v1+cell": {
     "cellMetadata": {
      "byteLimit": 2048000,
      "rowLimit": 10000
     },
     "inputWidgets": {},
     "nuid": "01feb992-20bb-49cb-9a7a-418e6e84f61b",
     "showTitle": false,
     "tableResultSettingsMap": {},
     "title": ""
    }
   },
   "source": []
  }
 ],
 "metadata": {
  "application/vnd.databricks.v1+notebook": {
   "computePreferences": null,
   "dashboards": [
    {
     "elements": [
      {
       "dashboardResultIndex": null,
       "elementNUID": "04f43321-c67e-433f-b477-dd7b9eb66c1b",
       "elementType": "command",
       "guid": "10a21b16-a37d-4818-9326-3b821ac9b344",
       "options": {
        "autoScaleImg": false,
        "scale": 0,
        "showRunButton": true,
        "showTitle": true,
        "title": "Total Sales By Product",
        "titleAlign": "center"
       },
       "position": {
        "height": 5,
        "width": 21,
        "x": 0,
        "y": 19,
        "z": null
       },
       "resultIndex": null
      },
      {
       "dashboardResultIndex": null,
       "elementNUID": "730acd0f-0ce6-46b6-b211-61eff2c8bbe9",
       "elementType": "command",
       "guid": "435f37b8-856e-4582-bf2e-9c1a997751c1",
       "options": null,
       "position": {
        "height": 11,
        "width": 21,
        "x": 0,
        "y": 0,
        "z": null
       },
       "resultIndex": null
      },
      {
       "dashboardResultIndex": null,
       "elementNUID": "7acb21ae-4913-4258-ac29-d9333da096e6",
       "elementType": "command",
       "guid": "4e39611b-ff14-4441-8e69-4d95812d8afd",
       "options": {
        "autoScaleImg": false,
        "scale": 0,
        "showRunButton": true,
        "showTitle": true,
        "title": "Total Sales By Retailer",
        "titleAlign": "center"
       },
       "position": {
        "height": 5,
        "width": 21,
        "x": 0,
        "y": 24,
        "z": null
       },
       "resultIndex": null
      },
      {
       "dashboardResultIndex": 0,
       "elementNUID": "abc444c6-c106-45f8-915b-8204a90ee983",
       "elementType": "command",
       "guid": "77bd445c-be43-411b-9610-955a94b9822d",
       "options": {
        "autoScaleImg": false,
        "scale": 0,
        "showRunButton": true,
        "showTitle": true,
        "title": "Total Sales, Total Profit, Total Price, Total Units Sold",
        "titleAlign": "center"
       },
       "position": {
        "height": 3,
        "width": 21,
        "x": 0,
        "y": 11,
        "z": null
       },
       "resultIndex": null
      },
      {
       "dashboardResultIndex": null,
       "elementNUID": "f062dd75-46f5-4278-a534-dec9fc7ac4f9",
       "elementType": "command",
       "guid": "a74c307b-104d-4c65-9609-2ea270bcfc83",
       "options": {
        "autoScaleImg": false,
        "scale": 0,
        "showRunButton": true,
        "showTitle": true,
        "title": "Total Sales By Month",
        "titleAlign": "center"
       },
       "position": {
        "height": 6,
        "width": 21,
        "x": 0,
        "y": 36,
        "z": null
       },
       "resultIndex": null
      },
      {
       "dashboardResultIndex": null,
       "elementNUID": "1ea51c13-7ecb-4767-9722-cb87f1709f4a",
       "elementType": "command",
       "guid": "a7884d84-cab8-430a-b83c-e70cf93300b3",
       "options": {
        "autoScaleImg": false,
        "scale": 0,
        "showRunButton": true,
        "showTitle": true,
        "title": "Total Profit by City",
        "titleAlign": "center"
       },
       "position": {
        "height": 7,
        "width": 12,
        "x": 9,
        "y": 29,
        "z": null
       },
       "resultIndex": null
      },
      {
       "dashboardResultIndex": null,
       "elementNUID": "40e45a7c-f5c2-41b8-80e8-e149e91bcc73",
       "elementType": "command",
       "guid": "bcd382ca-e59c-4825-b842-94fed8633cb1",
       "options": {
        "autoScaleImg": false,
        "scale": 0,
        "showRunButton": true,
        "showTitle": true,
        "title": "Total Sales By State",
        "titleAlign": "center"
       },
       "position": {
        "height": 5,
        "width": 9,
        "x": 12,
        "y": 14,
        "z": null
       },
       "resultIndex": null
      },
      {
       "dashboardResultIndex": null,
       "elementNUID": "e759347c-65e9-4122-a56c-20ef6fb6bfb9",
       "elementType": "command",
       "guid": "f60ed0c7-62ae-44c6-9c72-5a5ff8f31360",
       "options": {
        "autoScaleImg": false,
        "scale": 0,
        "showRunButton": true,
        "showTitle": true,
        "title": "Total Sales By Month",
        "titleAlign": "center"
       },
       "position": {
        "height": 5,
        "width": 12,
        "x": 0,
        "y": 14,
        "z": null
       },
       "resultIndex": null
      },
      {
       "dashboardResultIndex": null,
       "elementNUID": "cabefd15-0b53-480b-b5b3-1c51d5c91c39",
       "elementType": "command",
       "guid": "f884c03a-dbff-4bcc-92cb-4216d2926ace",
       "options": {
        "autoScaleImg": false,
        "scale": 0,
        "showRunButton": true,
        "showTitle": true,
        "title": "Total Sales By Units Sold",
        "titleAlign": "center"
       },
       "position": {
        "height": 7,
        "width": 9,
        "x": 0,
        "y": 29,
        "z": null
       },
       "resultIndex": null
      }
     ],
     "globalVars": {},
     "guid": "",
     "layoutOption": {
      "grid": true,
      "stack": true
     },
     "nuid": "d1f06789-c939-4604-bfa1-048a86b5cf28",
     "origId": 1188227059523662,
     "title": "Sales",
     "version": "DashboardViewV1",
     "width": 1024
    },
    {
     "elements": [
      {
       "dashboardResultIndex": null,
       "elementNUID": "f062dd75-46f5-4278-a534-dec9fc7ac4f9",
       "elementType": "command",
       "guid": "03ef7dab-8438-4d97-a036-8bdb70726ff9",
       "options": null,
       "position": {
        "height": 6,
        "width": 12,
        "x": 0,
        "y": 101,
        "z": null
       },
       "resultIndex": null
      },
      {
       "dashboardResultIndex": null,
       "elementNUID": "1ea51c13-7ecb-4767-9722-cb87f1709f4a",
       "elementType": "command",
       "guid": "0a6df1ca-d583-41e9-83e6-666aabd5c9d2",
       "options": null,
       "position": {
        "height": 6,
        "width": 12,
        "x": 0,
        "y": 95,
        "z": null
       },
       "resultIndex": null
      },
      {
       "dashboardResultIndex": 0,
       "elementNUID": "b84b92c5-7a89-4325-a258-327fed3ecae0",
       "elementType": "command",
       "guid": "17bc6e26-9232-4466-8b8a-bf706b67ffbb",
       "options": null,
       "position": {
        "height": 6,
        "width": 12,
        "x": 0,
        "y": 52,
        "z": null
       },
       "resultIndex": null
      },
      {
       "dashboardResultIndex": 0,
       "elementNUID": "debd9fbc-49f4-421d-a70f-d7eba4e843e4",
       "elementType": "command",
       "guid": "1b75a83c-6090-4138-adb4-6a6661d11e5b",
       "options": null,
       "position": {
        "height": 6,
        "width": 12,
        "x": 0,
        "y": 58,
        "z": null
       },
       "resultIndex": null
      },
      {
       "dashboardResultIndex": null,
       "elementNUID": "40e45a7c-f5c2-41b8-80e8-e149e91bcc73",
       "elementType": "command",
       "guid": "2b297f05-41dc-4d17-84f6-ce9b1915bddf",
       "options": null,
       "position": {
        "height": 6,
        "width": 12,
        "x": 0,
        "y": 71,
        "z": null
       },
       "resultIndex": null
      },
      {
       "dashboardResultIndex": null,
       "elementNUID": "cabefd15-0b53-480b-b5b3-1c51d5c91c39",
       "elementType": "command",
       "guid": "43c90a76-f76d-4e43-abe1-7821186b9cac",
       "options": null,
       "position": {
        "height": 6,
        "width": 12,
        "x": 0,
        "y": 89,
        "z": null
       },
       "resultIndex": null
      },
      {
       "dashboardResultIndex": null,
       "elementNUID": "e759347c-65e9-4122-a56c-20ef6fb6bfb9",
       "elementType": "command",
       "guid": "4a26ddf4-d5d0-4935-a15a-fb7add988b28",
       "options": null,
       "position": {
        "height": 6,
        "width": 12,
        "x": 0,
        "y": 64,
        "z": null
       },
       "resultIndex": null
      },
      {
       "dashboardResultIndex": 0,
       "elementNUID": "6fd87ab2-bc14-4cda-b919-f2e27c497780",
       "elementType": "command",
       "guid": "53ad6e1c-cc7c-4e9c-872e-410e2a1b60dc",
       "options": null,
       "position": {
        "height": 6,
        "width": 12,
        "x": 0,
        "y": 22,
        "z": null
       },
       "resultIndex": null
      },
      {
       "dashboardResultIndex": null,
       "elementNUID": "01feb992-20bb-49cb-9a7a-418e6e84f61b",
       "elementType": "command",
       "guid": "5b325f71-e9b2-43a3-8e50-f94a193c96c4",
       "options": null,
       "position": {
        "height": 1,
        "width": 12,
        "x": 0,
        "y": 70,
        "z": null
       },
       "resultIndex": null
      },
      {
       "dashboardResultIndex": 0,
       "elementNUID": "a1b74ef5-05b3-42a6-be94-775a5f0f47bf",
       "elementType": "command",
       "guid": "5bcb7498-1cf3-455b-9b10-731f23505691",
       "options": null,
       "position": {
        "height": 6,
        "width": 12,
        "x": 0,
        "y": 40,
        "z": null
       },
       "resultIndex": null
      },
      {
       "dashboardResultIndex": null,
       "elementNUID": "730acd0f-0ce6-46b6-b211-61eff2c8bbe9",
       "elementType": "command",
       "guid": "5fd4a51e-1338-49d8-9258-0d2b29864256",
       "options": null,
       "position": {
        "height": 13,
        "width": 12,
        "x": 0,
        "y": 0,
        "z": null
       },
       "resultIndex": null
      },
      {
       "dashboardResultIndex": null,
       "elementNUID": "04f43321-c67e-433f-b477-dd7b9eb66c1b",
       "elementType": "command",
       "guid": "6f42ea2b-8f02-46d4-8a30-ff6cc1bd0605",
       "options": null,
       "position": {
        "height": 6,
        "width": 12,
        "x": 0,
        "y": 77,
        "z": null
       },
       "resultIndex": null
      },
      {
       "dashboardResultIndex": 0,
       "elementNUID": "1e3cf978-f9f1-4200-ae7b-f213480bb177",
       "elementType": "command",
       "guid": "b80aac59-a05d-4dbe-a629-f02f1d4a0761",
       "options": null,
       "position": {
        "height": 2,
        "width": 5,
        "x": 13,
        "y": 0,
        "z": null
       },
       "resultIndex": null
      },
      {
       "dashboardResultIndex": 0,
       "elementNUID": "abc444c6-c106-45f8-915b-8204a90ee983",
       "elementType": "command",
       "guid": "d16007f2-11f0-4c3f-88cd-7a666f5a312b",
       "options": null,
       "position": {
        "height": 9,
        "width": 12,
        "x": 0,
        "y": 13,
        "z": null
       },
       "resultIndex": null
      },
      {
       "dashboardResultIndex": null,
       "elementNUID": "0fffffed-9fbb-4c9e-b2eb-35e81f6ee847",
       "elementType": "command",
       "guid": "e278affb-91ce-491e-b443-f3f345b1b6ee",
       "options": null,
       "position": {
        "height": 6,
        "width": 12,
        "x": 0,
        "y": 28,
        "z": null
       },
       "resultIndex": null
      },
      {
       "dashboardResultIndex": 0,
       "elementNUID": "8e163323-a9c7-48dd-be5c-e7c4c7bedaa6",
       "elementType": "command",
       "guid": "e43c01d2-94ac-4ef9-a034-b198e8b8253e",
       "options": null,
       "position": {
        "height": 6,
        "width": 12,
        "x": 0,
        "y": 46,
        "z": null
       },
       "resultIndex": null
      },
      {
       "dashboardResultIndex": null,
       "elementNUID": "7acb21ae-4913-4258-ac29-d9333da096e6",
       "elementType": "command",
       "guid": "e8ca1140-9615-4dd3-a364-5804a450cb1f",
       "options": null,
       "position": {
        "height": 6,
        "width": 12,
        "x": 0,
        "y": 83,
        "z": null
       },
       "resultIndex": null
      },
      {
       "dashboardResultIndex": 0,
       "elementNUID": "1461d1b6-f440-40d8-aed3-14dae86b98b3",
       "elementType": "command",
       "guid": "f4f93879-97a4-41fe-9393-b4e0d418d0b7",
       "options": null,
       "position": {
        "height": 6,
        "width": 12,
        "x": 0,
        "y": 34,
        "z": null
       },
       "resultIndex": null
      }
     ],
     "globalVars": {},
     "guid": "",
     "layoutOption": {
      "grid": true,
      "stack": true
     },
     "nuid": "287f3422-9113-4d50-9295-c752e7f6fe3b",
     "origId": 5391239545708873,
     "title": "Untitled",
     "version": "DashboardViewV1",
     "width": 1024
    },
    {
     "elements": [
      {
       "dashboardResultIndex": null,
       "elementNUID": "1ea51c13-7ecb-4767-9722-cb87f1709f4a",
       "elementType": "command",
       "guid": "0554ecb7-47b2-414f-8a71-e7877ae4e65b",
       "options": null,
       "position": {
        "height": 6,
        "width": 12,
        "x": 0,
        "y": 85,
        "z": null
       },
       "resultIndex": null
      },
      {
       "dashboardResultIndex": 0,
       "elementNUID": "1e3cf978-f9f1-4200-ae7b-f213480bb177",
       "elementType": "command",
       "guid": "1566e15b-b63d-4a9d-8199-db2f0d02ee6a",
       "options": null,
       "position": {
        "height": 2,
        "width": 12,
        "x": 0,
        "y": 104,
        "z": null
       },
       "resultIndex": null
      },
      {
       "dashboardResultIndex": null,
       "elementNUID": "e759347c-65e9-4122-a56c-20ef6fb6bfb9",
       "elementType": "command",
       "guid": "193ec60f-9bfd-44ff-baa1-5d9ba5e45ffe",
       "options": null,
       "position": {
        "height": 6,
        "width": 12,
        "x": 0,
        "y": 55,
        "z": null
       },
       "resultIndex": null
      },
      {
       "dashboardResultIndex": 0,
       "elementNUID": "a1b74ef5-05b3-42a6-be94-775a5f0f47bf",
       "elementType": "command",
       "guid": "1b20da93-f585-4336-a660-5a9e4076e3f9",
       "options": null,
       "position": {
        "height": 6,
        "width": 12,
        "x": 0,
        "y": 31,
        "z": null
       },
       "resultIndex": null
      },
      {
       "dashboardResultIndex": 0,
       "elementNUID": "debd9fbc-49f4-421d-a70f-d7eba4e843e4",
       "elementType": "command",
       "guid": "1b28f33d-54a9-4236-9c8f-8966b07b2524",
       "options": null,
       "position": {
        "height": 6,
        "width": 12,
        "x": 0,
        "y": 61,
        "z": null
       },
       "resultIndex": null
      },
      {
       "dashboardResultIndex": 0,
       "elementNUID": "abc444c6-c106-45f8-915b-8204a90ee983",
       "elementType": "command",
       "guid": "2126f5da-f2a4-471c-8c9b-3a56535cfa33",
       "options": null,
       "position": {
        "height": 6,
        "width": 12,
        "x": 0,
        "y": 13,
        "z": null
       },
       "resultIndex": null
      },
      {
       "dashboardResultIndex": null,
       "elementNUID": "04f43321-c67e-433f-b477-dd7b9eb66c1b",
       "elementType": "command",
       "guid": "248ad913-f88d-406d-98e8-136b256f9bca",
       "options": null,
       "position": {
        "height": 6,
        "width": 12,
        "x": 0,
        "y": 91,
        "z": null
       },
       "resultIndex": null
      },
      {
       "dashboardResultIndex": null,
       "elementNUID": "cabefd15-0b53-480b-b5b3-1c51d5c91c39",
       "elementType": "command",
       "guid": "350fad66-3690-45a5-8d7e-42956de2aec8",
       "options": null,
       "position": {
        "height": 6,
        "width": 12,
        "x": 0,
        "y": 79,
        "z": null
       },
       "resultIndex": null
      },
      {
       "dashboardResultIndex": 0,
       "elementNUID": "b84b92c5-7a89-4325-a258-327fed3ecae0",
       "elementType": "command",
       "guid": "42a835ef-7fdf-423e-a4b9-28aa0cae47d0",
       "options": null,
       "position": {
        "height": 6,
        "width": 12,
        "x": 0,
        "y": 43,
        "z": null
       },
       "resultIndex": null
      },
      {
       "dashboardResultIndex": null,
       "elementNUID": "f062dd75-46f5-4278-a534-dec9fc7ac4f9",
       "elementType": "command",
       "guid": "4a932819-3d1c-4a46-8a73-9e789e682249",
       "options": null,
       "position": {
        "height": 6,
        "width": 12,
        "x": 0,
        "y": 98,
        "z": null
       },
       "resultIndex": null
      },
      {
       "dashboardResultIndex": 0,
       "elementNUID": "6fd87ab2-bc14-4cda-b919-f2e27c497780",
       "elementType": "command",
       "guid": "61e5af85-802c-44c0-a290-39b9ecb8a60e",
       "options": null,
       "position": {
        "height": 6,
        "width": 12,
        "x": 0,
        "y": 19,
        "z": null
       },
       "resultIndex": null
      },
      {
       "dashboardResultIndex": null,
       "elementNUID": "40e45a7c-f5c2-41b8-80e8-e149e91bcc73",
       "elementType": "command",
       "guid": "6d9c57fe-5f84-406a-98c7-a7d7bb6f155e",
       "options": null,
       "position": {
        "height": 6,
        "width": 12,
        "x": 0,
        "y": 67,
        "z": null
       },
       "resultIndex": null
      },
      {
       "dashboardResultIndex": null,
       "elementNUID": "7acb21ae-4913-4258-ac29-d9333da096e6",
       "elementType": "command",
       "guid": "a9df10f7-6bf9-4c21-b597-0c2c3a2d4e5b",
       "options": null,
       "position": {
        "height": 6,
        "width": 12,
        "x": 0,
        "y": 73,
        "z": null
       },
       "resultIndex": null
      },
      {
       "dashboardResultIndex": null,
       "elementNUID": "730acd0f-0ce6-46b6-b211-61eff2c8bbe9",
       "elementType": "command",
       "guid": "bfecc185-0fcb-41ad-a5c5-3e63485a67a8",
       "options": null,
       "position": {
        "height": 13,
        "width": 12,
        "x": 0,
        "y": 0,
        "z": null
       },
       "resultIndex": null
      },
      {
       "dashboardResultIndex": 0,
       "elementNUID": "8e163323-a9c7-48dd-be5c-e7c4c7bedaa6",
       "elementType": "command",
       "guid": "e55a09b9-4923-41fa-a15c-128400c2ccb7",
       "options": null,
       "position": {
        "height": 6,
        "width": 12,
        "x": 0,
        "y": 49,
        "z": null
       },
       "resultIndex": null
      },
      {
       "dashboardResultIndex": 0,
       "elementNUID": "1461d1b6-f440-40d8-aed3-14dae86b98b3",
       "elementType": "command",
       "guid": "e65c733c-df16-4e21-ab7b-3e99472b46ab",
       "options": null,
       "position": {
        "height": 6,
        "width": 12,
        "x": 0,
        "y": 37,
        "z": null
       },
       "resultIndex": null
      },
      {
       "dashboardResultIndex": null,
       "elementNUID": "0fffffed-9fbb-4c9e-b2eb-35e81f6ee847",
       "elementType": "command",
       "guid": "f09c8da0-8961-4972-b798-aa13495b1b8b",
       "options": null,
       "position": {
        "height": 6,
        "width": 12,
        "x": 0,
        "y": 25,
        "z": null
       },
       "resultIndex": null
      },
      {
       "dashboardResultIndex": null,
       "elementNUID": "01feb992-20bb-49cb-9a7a-418e6e84f61b",
       "elementType": "command",
       "guid": "f6db1b74-14db-4693-95de-98142125f669",
       "options": null,
       "position": {
        "height": 1,
        "width": 12,
        "x": 0,
        "y": 97,
        "z": null
       },
       "resultIndex": null
      }
     ],
     "globalVars": {},
     "guid": "",
     "layoutOption": {
      "grid": true,
      "stack": true
     },
     "nuid": "cde578b5-7bc0-4220-b83f-8cd32fd392c6",
     "origId": 5391239545708874,
     "title": "Untitled",
     "version": "DashboardViewV1",
     "width": 1024
    },
    {
     "elements": [
      {
       "dashboardResultIndex": null,
       "elementNUID": "730acd0f-0ce6-46b6-b211-61eff2c8bbe9",
       "elementType": "command",
       "guid": "1505a9f8-646e-435d-8557-07a64ac9e43b",
       "options": null,
       "position": {
        "height": 13,
        "width": 12,
        "x": 0,
        "y": 0,
        "z": null
       },
       "resultIndex": null
      },
      {
       "dashboardResultIndex": 0,
       "elementNUID": "abc444c6-c106-45f8-915b-8204a90ee983",
       "elementType": "command",
       "guid": "38147e2c-9240-43aa-a655-631b40a42398",
       "options": null,
       "position": {
        "height": 6,
        "width": 12,
        "x": 0,
        "y": 19,
        "z": null
       },
       "resultIndex": null
      },
      {
       "dashboardResultIndex": null,
       "elementNUID": "e759347c-65e9-4122-a56c-20ef6fb6bfb9",
       "elementType": "command",
       "guid": "41d041ee-7335-48da-a6a6-b6a105125bbb",
       "options": null,
       "position": {
        "height": 6,
        "width": 12,
        "x": 0,
        "y": 67,
        "z": null
       },
       "resultIndex": null
      },
      {
       "dashboardResultIndex": 0,
       "elementNUID": "b84b92c5-7a89-4325-a258-327fed3ecae0",
       "elementType": "command",
       "guid": "478c4998-6b69-43d6-bd7d-462907164781",
       "options": null,
       "position": {
        "height": 6,
        "width": 12,
        "x": 0,
        "y": 55,
        "z": null
       },
       "resultIndex": null
      },
      {
       "dashboardResultIndex": null,
       "elementNUID": "0fffffed-9fbb-4c9e-b2eb-35e81f6ee847",
       "elementType": "command",
       "guid": "5286043d-98e7-4ad8-a10f-1642495bc3ab",
       "options": null,
       "position": {
        "height": 6,
        "width": 12,
        "x": 0,
        "y": 31,
        "z": null
       },
       "resultIndex": null
      },
      {
       "dashboardResultIndex": 0,
       "elementNUID": "debd9fbc-49f4-421d-a70f-d7eba4e843e4",
       "elementType": "command",
       "guid": "5fa138ec-b275-456b-b707-bad3393cd7d8",
       "options": null,
       "position": {
        "height": 6,
        "width": 12,
        "x": 0,
        "y": 61,
        "z": null
       },
       "resultIndex": null
      },
      {
       "dashboardResultIndex": null,
       "elementNUID": "40e45a7c-f5c2-41b8-80e8-e149e91bcc73",
       "elementType": "command",
       "guid": "66831bd5-a904-4b51-8027-2ce189b1cc15",
       "options": null,
       "position": {
        "height": 6,
        "width": 12,
        "x": 0,
        "y": 74,
        "z": null
       },
       "resultIndex": null
      },
      {
       "dashboardResultIndex": null,
       "elementNUID": "f062dd75-46f5-4278-a534-dec9fc7ac4f9",
       "elementType": "command",
       "guid": "6f34df2e-da0a-4a2c-ab1a-bdd9afffa5d5",
       "options": null,
       "position": {
        "height": 6,
        "width": 12,
        "x": 0,
        "y": 104,
        "z": null
       },
       "resultIndex": null
      },
      {
       "dashboardResultIndex": null,
       "elementNUID": "01feb992-20bb-49cb-9a7a-418e6e84f61b",
       "elementType": "command",
       "guid": "7626ebc2-750c-4780-b68c-694baf1769a2",
       "options": null,
       "position": {
        "height": 1,
        "width": 12,
        "x": 0,
        "y": 73,
        "z": null
       },
       "resultIndex": null
      },
      {
       "dashboardResultIndex": 0,
       "elementNUID": "1e3cf978-f9f1-4200-ae7b-f213480bb177",
       "elementType": "command",
       "guid": "7e087fca-d500-4c3a-98af-15cf77ca87cb",
       "options": null,
       "position": {
        "height": 6,
        "width": 12,
        "x": 0,
        "y": 13,
        "z": null
       },
       "resultIndex": null
      },
      {
       "dashboardResultIndex": 0,
       "elementNUID": "8e163323-a9c7-48dd-be5c-e7c4c7bedaa6",
       "elementType": "command",
       "guid": "82e41703-1063-437c-a69f-ddb2fb2ff411",
       "options": null,
       "position": {
        "height": 6,
        "width": 12,
        "x": 0,
        "y": 49,
        "z": null
       },
       "resultIndex": null
      },
      {
       "dashboardResultIndex": 0,
       "elementNUID": "1461d1b6-f440-40d8-aed3-14dae86b98b3",
       "elementType": "command",
       "guid": "839b7eaf-83b8-4bbc-a450-c604e55ee217",
       "options": null,
       "position": {
        "height": 6,
        "width": 12,
        "x": 0,
        "y": 37,
        "z": null
       },
       "resultIndex": null
      },
      {
       "dashboardResultIndex": null,
       "elementNUID": "cabefd15-0b53-480b-b5b3-1c51d5c91c39",
       "elementType": "command",
       "guid": "a362669f-3f31-477c-9bac-88a930b80eb3",
       "options": null,
       "position": {
        "height": 6,
        "width": 12,
        "x": 0,
        "y": 92,
        "z": null
       },
       "resultIndex": null
      },
      {
       "dashboardResultIndex": 0,
       "elementNUID": "6fd87ab2-bc14-4cda-b919-f2e27c497780",
       "elementType": "command",
       "guid": "aca4102f-330a-49b6-9fcd-25261dd371df",
       "options": null,
       "position": {
        "height": 6,
        "width": 12,
        "x": 0,
        "y": 25,
        "z": null
       },
       "resultIndex": null
      },
      {
       "dashboardResultIndex": null,
       "elementNUID": "04f43321-c67e-433f-b477-dd7b9eb66c1b",
       "elementType": "command",
       "guid": "bcfa873d-ae50-4b09-b85d-a7e530d7f359",
       "options": null,
       "position": {
        "height": 6,
        "width": 12,
        "x": 0,
        "y": 80,
        "z": null
       },
       "resultIndex": null
      },
      {
       "dashboardResultIndex": null,
       "elementNUID": "7acb21ae-4913-4258-ac29-d9333da096e6",
       "elementType": "command",
       "guid": "e76777a9-dd29-43d7-950c-ed3b16f0f1ff",
       "options": null,
       "position": {
        "height": 6,
        "width": 12,
        "x": 0,
        "y": 86,
        "z": null
       },
       "resultIndex": null
      },
      {
       "dashboardResultIndex": null,
       "elementNUID": "1ea51c13-7ecb-4767-9722-cb87f1709f4a",
       "elementType": "command",
       "guid": "f451b46c-7858-4255-a02f-8821aab7dc84",
       "options": null,
       "position": {
        "height": 6,
        "width": 12,
        "x": 0,
        "y": 98,
        "z": null
       },
       "resultIndex": null
      },
      {
       "dashboardResultIndex": 0,
       "elementNUID": "a1b74ef5-05b3-42a6-be94-775a5f0f47bf",
       "elementType": "command",
       "guid": "ff6e1bd6-1534-4b56-849b-e333f27bf97d",
       "options": null,
       "position": {
        "height": 6,
        "width": 12,
        "x": 0,
        "y": 43,
        "z": null
       },
       "resultIndex": null
      }
     ],
     "globalVars": {},
     "guid": "",
     "layoutOption": {
      "grid": true,
      "stack": true
     },
     "nuid": "89af4cf9-1a0d-43cd-957f-c966831ee604",
     "origId": 5391239545708875,
     "title": "Untitled",
     "version": "DashboardViewV1",
     "width": 1024
    }
   ],
   "environmentMetadata": {
    "base_environment": "",
    "client": "1"
   },
   "language": "python",
   "notebookMetadata": {
    "mostRecentlyExecutedCommandWithImplicitDF": {
     "commandId": 4109076726249156,
     "dataframes": [
      "_sqldf"
     ]
    },
    "pythonIndentUnit": 4
   },
   "notebookName": "AdidassalesProject",
   "widgets": {}
  },
  "language_info": {
   "name": "python"
  }
 },
 "nbformat": 4,
 "nbformat_minor": 0
}